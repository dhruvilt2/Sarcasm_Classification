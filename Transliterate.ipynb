{
  "nbformat": 4,
  "nbformat_minor": 0,
  "metadata": {
    "colab": {
      "provenance": [],
      "toc_visible": true,
      "gpuType": "T4"
    },
    "kernelspec": {
      "name": "python3",
      "display_name": "Python 3"
    },
    "language_info": {
      "name": "python"
    },
    "accelerator": "GPU"
  },
  "cells": [
    {
      "cell_type": "markdown",
      "source": [
        "#Transliterated to Malyalam"
      ],
      "metadata": {
        "id": "ALwmmDJ0Z2F1"
      }
    },
    {
      "cell_type": "code",
      "execution_count": 13,
      "metadata": {
        "id": "eGjET4VbW0Et"
      },
      "outputs": [],
      "source": [
        "import numpy as np\n",
        "import matplotlib.pyplot as plt\n",
        "import pandas as pd\n",
        "import tensorflow as tf\n",
        "from sklearn.metrics import confusion_matrix, ConfusionMatrixDisplay\n",
        "import seaborn as sns\n",
        "from sklearn import metrics\n",
        "from sklearn.metrics import classification_report"
      ]
    },
    {
      "cell_type": "code",
      "source": [
        "df1 = pd.read_csv(\"Malyalam.csv\")\n",
        "df2=pd.read_csv(\"Malyalam_test.csv\")"
      ],
      "metadata": {
        "id": "fKnO_K9OXaxM"
      },
      "execution_count": 14,
      "outputs": []
    },
    {
      "cell_type": "code",
      "source": [
        "label_mapping = {\"Non-sarcastic\": 0, \"Sarcastic\": 1}\n",
        "df1['map'] = df1['labels'].map(label_mapping)\n",
        "df2['map'] = df2['labels'].map(label_mapping)"
      ],
      "metadata": {
        "id": "uhGmZrEYXB7q"
      },
      "execution_count": 16,
      "outputs": []
    },
    {
      "cell_type": "code",
      "source": [
        "!nvidia-smi -L"
      ],
      "metadata": {
        "colab": {
          "base_uri": "https://localhost:8080/"
        },
        "id": "nP9YkE4sXXrQ",
        "outputId": "f8475c5c-ee78-4c44-e254-372cd42161c5"
      },
      "execution_count": 17,
      "outputs": [
        {
          "output_type": "stream",
          "name": "stdout",
          "text": [
            "GPU 0: Tesla T4 (UUID: GPU-2a5266ef-904b-79c5-7e02-7a36fe57ebf8)\n"
          ]
        }
      ]
    },
    {
      "cell_type": "code",
      "source": [
        "df1"
      ],
      "metadata": {
        "colab": {
          "base_uri": "https://localhost:8080/",
          "height": 580
        },
        "id": "-WDXYQmEXsl0",
        "outputId": "a01de99d-2dc2-48c7-ed4a-ddfa2d31fbad"
      },
      "execution_count": 18,
      "outputs": [
        {
          "output_type": "execute_result",
          "data": {
            "text/plain": [
              "                                                           Text  \\\n",
              "0          0  ആദ്യം കേട്ടിട്ട് ഇഷ്ടായില്ല  ഇപ്പൊ വീണ്ടും  വീ...   \n",
              "1          1  1:07 . ezhuthi kaanichathu kondu aaranennu man...   \n",
              "2          2                   Uyyantaa moneee,   ikkaa uyyyrrr   \n",
              "3          3                         K J Yesudas fans like here   \n",
              "4          4  Bollywood moviyude oru feel തോന്നിയവർ ലൈക് അടി...   \n",
              "...      ...                                                ...   \n",
              "12052  12052  Ente UDUTHUNI kandillaaa...'nne parayunnathaar...   \n",
              "12053  12053  ഈ മൂന്ന് അക്ഷരം മതി ദിലീപ് സിനിമ വേറെ ലെവൽ ആകു...   \n",
              "12054  12054      Class kazhinju makkalee Ini ikkade mass kanam   \n",
              "12055  12055  I like madhura Raja trailer.so I make a versio...   \n",
              "12056  12056  അവളുടെ മോന്തയ്ക്കിട്ടു ഒരെണ്ണം പൊട്ടിച്ചിട്ടു ...   \n",
              "\n",
              "              labels                                      malyalam_text  \\\n",
              "0      Non-sarcastic  {'ml': 'ആദ്യം കേട്ടിട്ട് ഇഷ്ടായില്ല  ഇപ്പൊ വീണ...   \n",
              "1      Non-sarcastic  {'ml': '൧:൦൭ . എഴുതി കാണിച്ചത് കൊണ്ട് ആരാണെന്ന...   \n",
              "2          Sarcastic            {'ml': 'ഉയ്യന്റാ മോണി,   ഇക്കാ ഉയ്യർർ'}   \n",
              "3      Non-sarcastic         {'ml': 'കെ ജെ യേശുദാസ് ഫാൻസ് ലൈക്ക് ഹെയർ'}   \n",
              "4      Non-sarcastic  {'ml': 'ബോളിവുഡ് മൂവിയുടെ ഒരു ഫീൽ തോന്നിയവർ ലൈ...   \n",
              "...              ...                                                ...   \n",
              "12052      Sarcastic  {'ml': \"എന്റെ ഉടുതുണി കണ്ടില്ലാ...'ന്നെ പറയുന്...   \n",
              "12053      Sarcastic  {'ml': 'ഈ മൂന്ന് അക്ഷരം മതി ദിലീപ് സിനിമ വേറെ ...   \n",
              "12054  Non-sarcastic  {'ml': 'ക്ലാസ് കഴിഞ്ഞു മക്കളേ ഇനി ഇക്കടെ മാസ് ...   \n",
              "12055  Non-sarcastic  {'ml': 'ഇ ലൈക്ക് മധുര രാജ ട്രെയിലർ.സോ ഇ മേക്ക്...   \n",
              "12056      Sarcastic  {'ml': 'അവളുടെ മോന്തയ്ക്കിട്ടു ഒരെണ്ണം പൊട്ടിച...   \n",
              "\n",
              "                                                   mtext  map  \n",
              "0      ആദ്യം കേട്ടിട്ട് ഇഷ്ടായില്ല  ഇപ്പൊ വീണ്ടും  വീ...    0  \n",
              "1       ൧:൦൭ . എഴുതി കാണിച്ചത് കൊണ്ട് ആരാണെന്ന് മനസിലായി    0  \n",
              "2                          ഉയ്യന്റാ മോണി,   ഇക്കാ ഉയ്യർർ    1  \n",
              "3                       കെ ജെ യേശുദാസ് ഫാൻസ് ലൈക്ക് ഹെയർ    0  \n",
              "4       ബോളിവുഡ് മൂവിയുടെ ഒരു ഫീൽ തോന്നിയവർ ലൈക് അടിക്ക്    0  \n",
              "...                                                  ...  ...  \n",
              "12052  എന്റെ ഉടുതുണി കണ്ടില്ലാ...'ന്നെ പറയുന്നതാരുന്ന...    1  \n",
              "12053  ഈ മൂന്ന് അക്ഷരം മതി ദിലീപ് സിനിമ വേറെ ലെവൽ ആകു...    1  \n",
              "12054          ക്ലാസ് കഴിഞ്ഞു മക്കളേ ഇനി ഇക്കടെ മാസ് കനം    0  \n",
              "12055  ഇ ലൈക്ക് മധുര രാജ ട്രെയിലർ.സോ ഇ മേക്ക് അ വേർഷൻ...    0  \n",
              "12056  അവളുടെ മോന്തയ്ക്കിട്ടു ഒരെണ്ണം പൊട്ടിച്ചിട്ടു ...    1  \n",
              "\n",
              "[12057 rows x 6 columns]"
            ],
            "text/html": [
              "\n",
              "  <div id=\"df-5ffadf9e-7fe1-4868-81bb-206de523a86b\" class=\"colab-df-container\">\n",
              "    <div>\n",
              "<style scoped>\n",
              "    .dataframe tbody tr th:only-of-type {\n",
              "        vertical-align: middle;\n",
              "    }\n",
              "\n",
              "    .dataframe tbody tr th {\n",
              "        vertical-align: top;\n",
              "    }\n",
              "\n",
              "    .dataframe thead th {\n",
              "        text-align: right;\n",
              "    }\n",
              "</style>\n",
              "<table border=\"1\" class=\"dataframe\">\n",
              "  <thead>\n",
              "    <tr style=\"text-align: right;\">\n",
              "      <th></th>\n",
              "      <th></th>\n",
              "      <th>Text</th>\n",
              "      <th>labels</th>\n",
              "      <th>malyalam_text</th>\n",
              "      <th>mtext</th>\n",
              "      <th>map</th>\n",
              "    </tr>\n",
              "  </thead>\n",
              "  <tbody>\n",
              "    <tr>\n",
              "      <th>0</th>\n",
              "      <td>0</td>\n",
              "      <td>ആദ്യം കേട്ടിട്ട് ഇഷ്ടായില്ല  ഇപ്പൊ വീണ്ടും  വീ...</td>\n",
              "      <td>Non-sarcastic</td>\n",
              "      <td>{'ml': 'ആദ്യം കേട്ടിട്ട് ഇഷ്ടായില്ല  ഇപ്പൊ വീണ...</td>\n",
              "      <td>ആദ്യം കേട്ടിട്ട് ഇഷ്ടായില്ല  ഇപ്പൊ വീണ്ടും  വീ...</td>\n",
              "      <td>0</td>\n",
              "    </tr>\n",
              "    <tr>\n",
              "      <th>1</th>\n",
              "      <td>1</td>\n",
              "      <td>1:07 . ezhuthi kaanichathu kondu aaranennu man...</td>\n",
              "      <td>Non-sarcastic</td>\n",
              "      <td>{'ml': '൧:൦൭ . എഴുതി കാണിച്ചത് കൊണ്ട് ആരാണെന്ന...</td>\n",
              "      <td>൧:൦൭ . എഴുതി കാണിച്ചത് കൊണ്ട് ആരാണെന്ന് മനസിലായി</td>\n",
              "      <td>0</td>\n",
              "    </tr>\n",
              "    <tr>\n",
              "      <th>2</th>\n",
              "      <td>2</td>\n",
              "      <td>Uyyantaa moneee,   ikkaa uyyyrrr</td>\n",
              "      <td>Sarcastic</td>\n",
              "      <td>{'ml': 'ഉയ്യന്റാ മോണി,   ഇക്കാ ഉയ്യർർ'}</td>\n",
              "      <td>ഉയ്യന്റാ മോണി,   ഇക്കാ ഉയ്യർർ</td>\n",
              "      <td>1</td>\n",
              "    </tr>\n",
              "    <tr>\n",
              "      <th>3</th>\n",
              "      <td>3</td>\n",
              "      <td>K J Yesudas fans like here</td>\n",
              "      <td>Non-sarcastic</td>\n",
              "      <td>{'ml': 'കെ ജെ യേശുദാസ് ഫാൻസ് ലൈക്ക് ഹെയർ'}</td>\n",
              "      <td>കെ ജെ യേശുദാസ് ഫാൻസ് ലൈക്ക് ഹെയർ</td>\n",
              "      <td>0</td>\n",
              "    </tr>\n",
              "    <tr>\n",
              "      <th>4</th>\n",
              "      <td>4</td>\n",
              "      <td>Bollywood moviyude oru feel തോന്നിയവർ ലൈക് അടി...</td>\n",
              "      <td>Non-sarcastic</td>\n",
              "      <td>{'ml': 'ബോളിവുഡ് മൂവിയുടെ ഒരു ഫീൽ തോന്നിയവർ ലൈ...</td>\n",
              "      <td>ബോളിവുഡ് മൂവിയുടെ ഒരു ഫീൽ തോന്നിയവർ ലൈക് അടിക്ക്</td>\n",
              "      <td>0</td>\n",
              "    </tr>\n",
              "    <tr>\n",
              "      <th>...</th>\n",
              "      <td>...</td>\n",
              "      <td>...</td>\n",
              "      <td>...</td>\n",
              "      <td>...</td>\n",
              "      <td>...</td>\n",
              "      <td>...</td>\n",
              "    </tr>\n",
              "    <tr>\n",
              "      <th>12052</th>\n",
              "      <td>12052</td>\n",
              "      <td>Ente UDUTHUNI kandillaaa...'nne parayunnathaar...</td>\n",
              "      <td>Sarcastic</td>\n",
              "      <td>{'ml': \"എന്റെ ഉടുതുണി കണ്ടില്ലാ...'ന്നെ പറയുന്...</td>\n",
              "      <td>എന്റെ ഉടുതുണി കണ്ടില്ലാ...'ന്നെ പറയുന്നതാരുന്ന...</td>\n",
              "      <td>1</td>\n",
              "    </tr>\n",
              "    <tr>\n",
              "      <th>12053</th>\n",
              "      <td>12053</td>\n",
              "      <td>ഈ മൂന്ന് അക്ഷരം മതി ദിലീപ് സിനിമ വേറെ ലെവൽ ആകു...</td>\n",
              "      <td>Sarcastic</td>\n",
              "      <td>{'ml': 'ഈ മൂന്ന് അക്ഷരം മതി ദിലീപ് സിനിമ വേറെ ...</td>\n",
              "      <td>ഈ മൂന്ന് അക്ഷരം മതി ദിലീപ് സിനിമ വേറെ ലെവൽ ആകു...</td>\n",
              "      <td>1</td>\n",
              "    </tr>\n",
              "    <tr>\n",
              "      <th>12054</th>\n",
              "      <td>12054</td>\n",
              "      <td>Class kazhinju makkalee Ini ikkade mass kanam</td>\n",
              "      <td>Non-sarcastic</td>\n",
              "      <td>{'ml': 'ക്ലാസ് കഴിഞ്ഞു മക്കളേ ഇനി ഇക്കടെ മാസ് ...</td>\n",
              "      <td>ക്ലാസ് കഴിഞ്ഞു മക്കളേ ഇനി ഇക്കടെ മാസ് കനം</td>\n",
              "      <td>0</td>\n",
              "    </tr>\n",
              "    <tr>\n",
              "      <th>12055</th>\n",
              "      <td>12055</td>\n",
              "      <td>I like madhura Raja trailer.so I make a versio...</td>\n",
              "      <td>Non-sarcastic</td>\n",
              "      <td>{'ml': 'ഇ ലൈക്ക് മധുര രാജ ട്രെയിലർ.സോ ഇ മേക്ക്...</td>\n",
              "      <td>ഇ ലൈക്ക് മധുര രാജ ട്രെയിലർ.സോ ഇ മേക്ക് അ വേർഷൻ...</td>\n",
              "      <td>0</td>\n",
              "    </tr>\n",
              "    <tr>\n",
              "      <th>12056</th>\n",
              "      <td>12056</td>\n",
              "      <td>അവളുടെ മോന്തയ്ക്കിട്ടു ഒരെണ്ണം പൊട്ടിച്ചിട്ടു ...</td>\n",
              "      <td>Sarcastic</td>\n",
              "      <td>{'ml': 'അവളുടെ മോന്തയ്ക്കിട്ടു ഒരെണ്ണം പൊട്ടിച...</td>\n",
              "      <td>അവളുടെ മോന്തയ്ക്കിട്ടു ഒരെണ്ണം പൊട്ടിച്ചിട്ടു ...</td>\n",
              "      <td>1</td>\n",
              "    </tr>\n",
              "  </tbody>\n",
              "</table>\n",
              "<p>12057 rows × 6 columns</p>\n",
              "</div>\n",
              "    <div class=\"colab-df-buttons\">\n",
              "\n",
              "  <div class=\"colab-df-container\">\n",
              "    <button class=\"colab-df-convert\" onclick=\"convertToInteractive('df-5ffadf9e-7fe1-4868-81bb-206de523a86b')\"\n",
              "            title=\"Convert this dataframe to an interactive table.\"\n",
              "            style=\"display:none;\">\n",
              "\n",
              "  <svg xmlns=\"http://www.w3.org/2000/svg\" height=\"24px\" viewBox=\"0 -960 960 960\">\n",
              "    <path d=\"M120-120v-720h720v720H120Zm60-500h600v-160H180v160Zm220 220h160v-160H400v160Zm0 220h160v-160H400v160ZM180-400h160v-160H180v160Zm440 0h160v-160H620v160ZM180-180h160v-160H180v160Zm440 0h160v-160H620v160Z\"/>\n",
              "  </svg>\n",
              "    </button>\n",
              "\n",
              "  <style>\n",
              "    .colab-df-container {\n",
              "      display:flex;\n",
              "      gap: 12px;\n",
              "    }\n",
              "\n",
              "    .colab-df-convert {\n",
              "      background-color: #E8F0FE;\n",
              "      border: none;\n",
              "      border-radius: 50%;\n",
              "      cursor: pointer;\n",
              "      display: none;\n",
              "      fill: #1967D2;\n",
              "      height: 32px;\n",
              "      padding: 0 0 0 0;\n",
              "      width: 32px;\n",
              "    }\n",
              "\n",
              "    .colab-df-convert:hover {\n",
              "      background-color: #E2EBFA;\n",
              "      box-shadow: 0px 1px 2px rgba(60, 64, 67, 0.3), 0px 1px 3px 1px rgba(60, 64, 67, 0.15);\n",
              "      fill: #174EA6;\n",
              "    }\n",
              "\n",
              "    .colab-df-buttons div {\n",
              "      margin-bottom: 4px;\n",
              "    }\n",
              "\n",
              "    [theme=dark] .colab-df-convert {\n",
              "      background-color: #3B4455;\n",
              "      fill: #D2E3FC;\n",
              "    }\n",
              "\n",
              "    [theme=dark] .colab-df-convert:hover {\n",
              "      background-color: #434B5C;\n",
              "      box-shadow: 0px 1px 3px 1px rgba(0, 0, 0, 0.15);\n",
              "      filter: drop-shadow(0px 1px 2px rgba(0, 0, 0, 0.3));\n",
              "      fill: #FFFFFF;\n",
              "    }\n",
              "  </style>\n",
              "\n",
              "    <script>\n",
              "      const buttonEl =\n",
              "        document.querySelector('#df-5ffadf9e-7fe1-4868-81bb-206de523a86b button.colab-df-convert');\n",
              "      buttonEl.style.display =\n",
              "        google.colab.kernel.accessAllowed ? 'block' : 'none';\n",
              "\n",
              "      async function convertToInteractive(key) {\n",
              "        const element = document.querySelector('#df-5ffadf9e-7fe1-4868-81bb-206de523a86b');\n",
              "        const dataTable =\n",
              "          await google.colab.kernel.invokeFunction('convertToInteractive',\n",
              "                                                    [key], {});\n",
              "        if (!dataTable) return;\n",
              "\n",
              "        const docLinkHtml = 'Like what you see? Visit the ' +\n",
              "          '<a target=\"_blank\" href=https://colab.research.google.com/notebooks/data_table.ipynb>data table notebook</a>'\n",
              "          + ' to learn more about interactive tables.';\n",
              "        element.innerHTML = '';\n",
              "        dataTable['output_type'] = 'display_data';\n",
              "        await google.colab.output.renderOutput(dataTable, element);\n",
              "        const docLink = document.createElement('div');\n",
              "        docLink.innerHTML = docLinkHtml;\n",
              "        element.appendChild(docLink);\n",
              "      }\n",
              "    </script>\n",
              "  </div>\n",
              "\n",
              "\n",
              "<div id=\"df-fb1f4242-e169-401f-b05a-805963c50b00\">\n",
              "  <button class=\"colab-df-quickchart\" onclick=\"quickchart('df-fb1f4242-e169-401f-b05a-805963c50b00')\"\n",
              "            title=\"Suggest charts\"\n",
              "            style=\"display:none;\">\n",
              "\n",
              "<svg xmlns=\"http://www.w3.org/2000/svg\" height=\"24px\"viewBox=\"0 0 24 24\"\n",
              "     width=\"24px\">\n",
              "    <g>\n",
              "        <path d=\"M19 3H5c-1.1 0-2 .9-2 2v14c0 1.1.9 2 2 2h14c1.1 0 2-.9 2-2V5c0-1.1-.9-2-2-2zM9 17H7v-7h2v7zm4 0h-2V7h2v10zm4 0h-2v-4h2v4z\"/>\n",
              "    </g>\n",
              "</svg>\n",
              "  </button>\n",
              "\n",
              "<style>\n",
              "  .colab-df-quickchart {\n",
              "      --bg-color: #E8F0FE;\n",
              "      --fill-color: #1967D2;\n",
              "      --hover-bg-color: #E2EBFA;\n",
              "      --hover-fill-color: #174EA6;\n",
              "      --disabled-fill-color: #AAA;\n",
              "      --disabled-bg-color: #DDD;\n",
              "  }\n",
              "\n",
              "  [theme=dark] .colab-df-quickchart {\n",
              "      --bg-color: #3B4455;\n",
              "      --fill-color: #D2E3FC;\n",
              "      --hover-bg-color: #434B5C;\n",
              "      --hover-fill-color: #FFFFFF;\n",
              "      --disabled-bg-color: #3B4455;\n",
              "      --disabled-fill-color: #666;\n",
              "  }\n",
              "\n",
              "  .colab-df-quickchart {\n",
              "    background-color: var(--bg-color);\n",
              "    border: none;\n",
              "    border-radius: 50%;\n",
              "    cursor: pointer;\n",
              "    display: none;\n",
              "    fill: var(--fill-color);\n",
              "    height: 32px;\n",
              "    padding: 0;\n",
              "    width: 32px;\n",
              "  }\n",
              "\n",
              "  .colab-df-quickchart:hover {\n",
              "    background-color: var(--hover-bg-color);\n",
              "    box-shadow: 0 1px 2px rgba(60, 64, 67, 0.3), 0 1px 3px 1px rgba(60, 64, 67, 0.15);\n",
              "    fill: var(--button-hover-fill-color);\n",
              "  }\n",
              "\n",
              "  .colab-df-quickchart-complete:disabled,\n",
              "  .colab-df-quickchart-complete:disabled:hover {\n",
              "    background-color: var(--disabled-bg-color);\n",
              "    fill: var(--disabled-fill-color);\n",
              "    box-shadow: none;\n",
              "  }\n",
              "\n",
              "  .colab-df-spinner {\n",
              "    border: 2px solid var(--fill-color);\n",
              "    border-color: transparent;\n",
              "    border-bottom-color: var(--fill-color);\n",
              "    animation:\n",
              "      spin 1s steps(1) infinite;\n",
              "  }\n",
              "\n",
              "  @keyframes spin {\n",
              "    0% {\n",
              "      border-color: transparent;\n",
              "      border-bottom-color: var(--fill-color);\n",
              "      border-left-color: var(--fill-color);\n",
              "    }\n",
              "    20% {\n",
              "      border-color: transparent;\n",
              "      border-left-color: var(--fill-color);\n",
              "      border-top-color: var(--fill-color);\n",
              "    }\n",
              "    30% {\n",
              "      border-color: transparent;\n",
              "      border-left-color: var(--fill-color);\n",
              "      border-top-color: var(--fill-color);\n",
              "      border-right-color: var(--fill-color);\n",
              "    }\n",
              "    40% {\n",
              "      border-color: transparent;\n",
              "      border-right-color: var(--fill-color);\n",
              "      border-top-color: var(--fill-color);\n",
              "    }\n",
              "    60% {\n",
              "      border-color: transparent;\n",
              "      border-right-color: var(--fill-color);\n",
              "    }\n",
              "    80% {\n",
              "      border-color: transparent;\n",
              "      border-right-color: var(--fill-color);\n",
              "      border-bottom-color: var(--fill-color);\n",
              "    }\n",
              "    90% {\n",
              "      border-color: transparent;\n",
              "      border-bottom-color: var(--fill-color);\n",
              "    }\n",
              "  }\n",
              "</style>\n",
              "\n",
              "  <script>\n",
              "    async function quickchart(key) {\n",
              "      const quickchartButtonEl =\n",
              "        document.querySelector('#' + key + ' button');\n",
              "      quickchartButtonEl.disabled = true;  // To prevent multiple clicks.\n",
              "      quickchartButtonEl.classList.add('colab-df-spinner');\n",
              "      try {\n",
              "        const charts = await google.colab.kernel.invokeFunction(\n",
              "            'suggestCharts', [key], {});\n",
              "      } catch (error) {\n",
              "        console.error('Error during call to suggestCharts:', error);\n",
              "      }\n",
              "      quickchartButtonEl.classList.remove('colab-df-spinner');\n",
              "      quickchartButtonEl.classList.add('colab-df-quickchart-complete');\n",
              "    }\n",
              "    (() => {\n",
              "      let quickchartButtonEl =\n",
              "        document.querySelector('#df-fb1f4242-e169-401f-b05a-805963c50b00 button');\n",
              "      quickchartButtonEl.style.display =\n",
              "        google.colab.kernel.accessAllowed ? 'block' : 'none';\n",
              "    })();\n",
              "  </script>\n",
              "</div>\n",
              "    </div>\n",
              "  </div>\n"
            ]
          },
          "metadata": {},
          "execution_count": 18
        }
      ]
    },
    {
      "cell_type": "code",
      "source": [
        "df2"
      ],
      "metadata": {
        "colab": {
          "base_uri": "https://localhost:8080/",
          "height": 597
        },
        "id": "Fat-n_eaX5r1",
        "outputId": "04a6bc10-5d24-4a54-f74f-448d2acc1113"
      },
      "execution_count": 19,
      "outputs": [
        {
          "output_type": "execute_result",
          "data": {
            "text/plain": [
              "                                                   Text         labels  \\\n",
              "0     നീയൊക്കെ ആരാധിച്ചു ആരാധിച്ചു വളർത്തിയിട്ടല്ല ഞ...  Non-sarcastic   \n",
              "1     ശ്ശെ ...!! അനു ചേച്ചി വിത്ത് മുലക്കച്ച പ്രതീക്...      Sarcastic   \n",
              "2     Jaison  um keerthiyum super aanu .....aaa chir...  Non-sarcastic   \n",
              "3               1M+ VIEWS IN 19 Hrs 2M+ VIEWS IN 4 DAYS  Non-sarcastic   \n",
              "4     addict ആവാനുള്ളതൊന്നും ഇല്ല ഇതിൽ..... dailly, ...  Non-sarcastic   \n",
              "...                                                 ...            ...   \n",
              "3010  Entammoooo lalettan clean shave look maarakam ...  Non-sarcastic   \n",
              "3011  Shane ninnodu abhinayikkana paranje allathe je...  Non-sarcastic   \n",
              "3012                         yenthu chali annu bro ethu  Non-sarcastic   \n",
              "3013  Trailer polichu.... Ee trailerilum valutaanu c...  Non-sarcastic   \n",
              "3014  ഇടയ്ക്കിടയ്ക്ക് സ്ലാങ് മാറുന്നു. സംവിധായകൻ അങ്...      Sarcastic   \n",
              "\n",
              "                                          malyalam_text  \\\n",
              "0     {'ml': 'നീയൊക്കെ ആരാധിച്ചു ആരാധിച്ചു വളർത്തിയി...   \n",
              "1     {'ml': 'ശ്ശെ ...!! അനു ചേച്ചി വിത്ത് മുലക്കച്ച...   \n",
              "2     {'ml': 'ജെയ്സൺ  ഉം കീർത്തിയും സൂപ്പർ ആണ് ........   \n",
              "3     {'ml': '൧എം+ വ്യൂസ് ഇൻ ൧൯ ഹർസ് ൨എം+ വ്യൂസ് ഇൻ ...   \n",
              "4     {'ml': 'അഡിക്ട് ആവാനുള്ളതൊന്നും ഇല്ല ഇതിൽ........   \n",
              "...                                                 ...   \n",
              "3010  {'ml': 'എന്റമ്മൂഓ ലാലേട്ടൻ ക്ലീൻ ഷേവ് ലുക്ക് മ...   \n",
              "3011  {'ml': 'ഷെയ്ൻ നിന്നോട് അഭിനയിക്കണ പറഞ്ഞേ അല്ലാ...   \n",
              "3012              {'ml': 'എന്തു ചാലി അന്നു ബ്രോ എത്തു'}   \n",
              "3013  {'ml': 'ട്രെയിലർ പൊളിച്ചു.... ഇഇ ട്രെയിലറിലും ...   \n",
              "3014  {'ml': 'ഇടയ്ക്കിടയ്ക്ക് സ്ലാങ് മാറുന്നു. സംവിധ...   \n",
              "\n",
              "                                                  mtext  map  \n",
              "0     നീയൊക്കെ ആരാധിച്ചു ആരാധിച്ചു വളർത്തിയിട്ടല്ല ഞ...    0  \n",
              "1     ശ്ശെ ...!! അനു ചേച്ചി വിത്ത് മുലക്കച്ച പ്രതീക്...    1  \n",
              "2     ജെയ്സൺ  ഉം കീർത്തിയും സൂപ്പർ ആണ് .....ആ ചിരി പ...    0  \n",
              "3        ൧എം+ വ്യൂസ് ഇൻ ൧൯ ഹർസ് ൨എം+ വ്യൂസ് ഇൻ ൪ ഡേയ്സ്    0  \n",
              "4     അഡിക്ട് ആവാനുള്ളതൊന്നും ഇല്ല ഇതിൽ..... ഡെയ്ലി,...    0  \n",
              "...                                                 ...  ...  \n",
              "3010  എന്റമ്മൂഓ ലാലേട്ടൻ ക്ലീൻ ഷേവ് ലുക്ക് മാരകം കട്...    0  \n",
              "3011  ഷെയ്ൻ നിന്നോട് അഭിനയിക്കണ പറഞ്ഞേ അല്ലാതെ ജീവിക...    0  \n",
              "3012                        എന്തു ചാലി അന്നു ബ്രോ എത്തു    0  \n",
              "3013  ട്രെയിലർ പൊളിച്ചു.... ഇഇ ട്രെയിലറിലും വലുട്ടാണ...    0  \n",
              "3014  ഇടയ്ക്കിടയ്ക്ക് സ്ലാങ് മാറുന്നു. സംവിധായകൻ അങ്...    1  \n",
              "\n",
              "[3015 rows x 5 columns]"
            ],
            "text/html": [
              "\n",
              "  <div id=\"df-a77ad548-045f-420f-9c77-710311c8e2f7\" class=\"colab-df-container\">\n",
              "    <div>\n",
              "<style scoped>\n",
              "    .dataframe tbody tr th:only-of-type {\n",
              "        vertical-align: middle;\n",
              "    }\n",
              "\n",
              "    .dataframe tbody tr th {\n",
              "        vertical-align: top;\n",
              "    }\n",
              "\n",
              "    .dataframe thead th {\n",
              "        text-align: right;\n",
              "    }\n",
              "</style>\n",
              "<table border=\"1\" class=\"dataframe\">\n",
              "  <thead>\n",
              "    <tr style=\"text-align: right;\">\n",
              "      <th></th>\n",
              "      <th>Text</th>\n",
              "      <th>labels</th>\n",
              "      <th>malyalam_text</th>\n",
              "      <th>mtext</th>\n",
              "      <th>map</th>\n",
              "    </tr>\n",
              "  </thead>\n",
              "  <tbody>\n",
              "    <tr>\n",
              "      <th>0</th>\n",
              "      <td>നീയൊക്കെ ആരാധിച്ചു ആരാധിച്ചു വളർത്തിയിട്ടല്ല ഞ...</td>\n",
              "      <td>Non-sarcastic</td>\n",
              "      <td>{'ml': 'നീയൊക്കെ ആരാധിച്ചു ആരാധിച്ചു വളർത്തിയി...</td>\n",
              "      <td>നീയൊക്കെ ആരാധിച്ചു ആരാധിച്ചു വളർത്തിയിട്ടല്ല ഞ...</td>\n",
              "      <td>0</td>\n",
              "    </tr>\n",
              "    <tr>\n",
              "      <th>1</th>\n",
              "      <td>ശ്ശെ ...!! അനു ചേച്ചി വിത്ത് മുലക്കച്ച പ്രതീക്...</td>\n",
              "      <td>Sarcastic</td>\n",
              "      <td>{'ml': 'ശ്ശെ ...!! അനു ചേച്ചി വിത്ത് മുലക്കച്ച...</td>\n",
              "      <td>ശ്ശെ ...!! അനു ചേച്ചി വിത്ത് മുലക്കച്ച പ്രതീക്...</td>\n",
              "      <td>1</td>\n",
              "    </tr>\n",
              "    <tr>\n",
              "      <th>2</th>\n",
              "      <td>Jaison  um keerthiyum super aanu .....aaa chir...</td>\n",
              "      <td>Non-sarcastic</td>\n",
              "      <td>{'ml': 'ജെയ്സൺ  ഉം കീർത്തിയും സൂപ്പർ ആണ് ........</td>\n",
              "      <td>ജെയ്സൺ  ഉം കീർത്തിയും സൂപ്പർ ആണ് .....ആ ചിരി പ...</td>\n",
              "      <td>0</td>\n",
              "    </tr>\n",
              "    <tr>\n",
              "      <th>3</th>\n",
              "      <td>1M+ VIEWS IN 19 Hrs 2M+ VIEWS IN 4 DAYS</td>\n",
              "      <td>Non-sarcastic</td>\n",
              "      <td>{'ml': '൧എം+ വ്യൂസ് ഇൻ ൧൯ ഹർസ് ൨എം+ വ്യൂസ് ഇൻ ...</td>\n",
              "      <td>൧എം+ വ്യൂസ് ഇൻ ൧൯ ഹർസ് ൨എം+ വ്യൂസ് ഇൻ ൪ ഡേയ്സ്</td>\n",
              "      <td>0</td>\n",
              "    </tr>\n",
              "    <tr>\n",
              "      <th>4</th>\n",
              "      <td>addict ആവാനുള്ളതൊന്നും ഇല്ല ഇതിൽ..... dailly, ...</td>\n",
              "      <td>Non-sarcastic</td>\n",
              "      <td>{'ml': 'അഡിക്ട് ആവാനുള്ളതൊന്നും ഇല്ല ഇതിൽ........</td>\n",
              "      <td>അഡിക്ട് ആവാനുള്ളതൊന്നും ഇല്ല ഇതിൽ..... ഡെയ്ലി,...</td>\n",
              "      <td>0</td>\n",
              "    </tr>\n",
              "    <tr>\n",
              "      <th>...</th>\n",
              "      <td>...</td>\n",
              "      <td>...</td>\n",
              "      <td>...</td>\n",
              "      <td>...</td>\n",
              "      <td>...</td>\n",
              "    </tr>\n",
              "    <tr>\n",
              "      <th>3010</th>\n",
              "      <td>Entammoooo lalettan clean shave look maarakam ...</td>\n",
              "      <td>Non-sarcastic</td>\n",
              "      <td>{'ml': 'എന്റമ്മൂഓ ലാലേട്ടൻ ക്ലീൻ ഷേവ് ലുക്ക് മ...</td>\n",
              "      <td>എന്റമ്മൂഓ ലാലേട്ടൻ ക്ലീൻ ഷേവ് ലുക്ക് മാരകം കട്...</td>\n",
              "      <td>0</td>\n",
              "    </tr>\n",
              "    <tr>\n",
              "      <th>3011</th>\n",
              "      <td>Shane ninnodu abhinayikkana paranje allathe je...</td>\n",
              "      <td>Non-sarcastic</td>\n",
              "      <td>{'ml': 'ഷെയ്ൻ നിന്നോട് അഭിനയിക്കണ പറഞ്ഞേ അല്ലാ...</td>\n",
              "      <td>ഷെയ്ൻ നിന്നോട് അഭിനയിക്കണ പറഞ്ഞേ അല്ലാതെ ജീവിക...</td>\n",
              "      <td>0</td>\n",
              "    </tr>\n",
              "    <tr>\n",
              "      <th>3012</th>\n",
              "      <td>yenthu chali annu bro ethu</td>\n",
              "      <td>Non-sarcastic</td>\n",
              "      <td>{'ml': 'എന്തു ചാലി അന്നു ബ്രോ എത്തു'}</td>\n",
              "      <td>എന്തു ചാലി അന്നു ബ്രോ എത്തു</td>\n",
              "      <td>0</td>\n",
              "    </tr>\n",
              "    <tr>\n",
              "      <th>3013</th>\n",
              "      <td>Trailer polichu.... Ee trailerilum valutaanu c...</td>\n",
              "      <td>Non-sarcastic</td>\n",
              "      <td>{'ml': 'ട്രെയിലർ പൊളിച്ചു.... ഇഇ ട്രെയിലറിലും ...</td>\n",
              "      <td>ട്രെയിലർ പൊളിച്ചു.... ഇഇ ട്രെയിലറിലും വലുട്ടാണ...</td>\n",
              "      <td>0</td>\n",
              "    </tr>\n",
              "    <tr>\n",
              "      <th>3014</th>\n",
              "      <td>ഇടയ്ക്കിടയ്ക്ക് സ്ലാങ് മാറുന്നു. സംവിധായകൻ അങ്...</td>\n",
              "      <td>Sarcastic</td>\n",
              "      <td>{'ml': 'ഇടയ്ക്കിടയ്ക്ക് സ്ലാങ് മാറുന്നു. സംവിധ...</td>\n",
              "      <td>ഇടയ്ക്കിടയ്ക്ക് സ്ലാങ് മാറുന്നു. സംവിധായകൻ അങ്...</td>\n",
              "      <td>1</td>\n",
              "    </tr>\n",
              "  </tbody>\n",
              "</table>\n",
              "<p>3015 rows × 5 columns</p>\n",
              "</div>\n",
              "    <div class=\"colab-df-buttons\">\n",
              "\n",
              "  <div class=\"colab-df-container\">\n",
              "    <button class=\"colab-df-convert\" onclick=\"convertToInteractive('df-a77ad548-045f-420f-9c77-710311c8e2f7')\"\n",
              "            title=\"Convert this dataframe to an interactive table.\"\n",
              "            style=\"display:none;\">\n",
              "\n",
              "  <svg xmlns=\"http://www.w3.org/2000/svg\" height=\"24px\" viewBox=\"0 -960 960 960\">\n",
              "    <path d=\"M120-120v-720h720v720H120Zm60-500h600v-160H180v160Zm220 220h160v-160H400v160Zm0 220h160v-160H400v160ZM180-400h160v-160H180v160Zm440 0h160v-160H620v160ZM180-180h160v-160H180v160Zm440 0h160v-160H620v160Z\"/>\n",
              "  </svg>\n",
              "    </button>\n",
              "\n",
              "  <style>\n",
              "    .colab-df-container {\n",
              "      display:flex;\n",
              "      gap: 12px;\n",
              "    }\n",
              "\n",
              "    .colab-df-convert {\n",
              "      background-color: #E8F0FE;\n",
              "      border: none;\n",
              "      border-radius: 50%;\n",
              "      cursor: pointer;\n",
              "      display: none;\n",
              "      fill: #1967D2;\n",
              "      height: 32px;\n",
              "      padding: 0 0 0 0;\n",
              "      width: 32px;\n",
              "    }\n",
              "\n",
              "    .colab-df-convert:hover {\n",
              "      background-color: #E2EBFA;\n",
              "      box-shadow: 0px 1px 2px rgba(60, 64, 67, 0.3), 0px 1px 3px 1px rgba(60, 64, 67, 0.15);\n",
              "      fill: #174EA6;\n",
              "    }\n",
              "\n",
              "    .colab-df-buttons div {\n",
              "      margin-bottom: 4px;\n",
              "    }\n",
              "\n",
              "    [theme=dark] .colab-df-convert {\n",
              "      background-color: #3B4455;\n",
              "      fill: #D2E3FC;\n",
              "    }\n",
              "\n",
              "    [theme=dark] .colab-df-convert:hover {\n",
              "      background-color: #434B5C;\n",
              "      box-shadow: 0px 1px 3px 1px rgba(0, 0, 0, 0.15);\n",
              "      filter: drop-shadow(0px 1px 2px rgba(0, 0, 0, 0.3));\n",
              "      fill: #FFFFFF;\n",
              "    }\n",
              "  </style>\n",
              "\n",
              "    <script>\n",
              "      const buttonEl =\n",
              "        document.querySelector('#df-a77ad548-045f-420f-9c77-710311c8e2f7 button.colab-df-convert');\n",
              "      buttonEl.style.display =\n",
              "        google.colab.kernel.accessAllowed ? 'block' : 'none';\n",
              "\n",
              "      async function convertToInteractive(key) {\n",
              "        const element = document.querySelector('#df-a77ad548-045f-420f-9c77-710311c8e2f7');\n",
              "        const dataTable =\n",
              "          await google.colab.kernel.invokeFunction('convertToInteractive',\n",
              "                                                    [key], {});\n",
              "        if (!dataTable) return;\n",
              "\n",
              "        const docLinkHtml = 'Like what you see? Visit the ' +\n",
              "          '<a target=\"_blank\" href=https://colab.research.google.com/notebooks/data_table.ipynb>data table notebook</a>'\n",
              "          + ' to learn more about interactive tables.';\n",
              "        element.innerHTML = '';\n",
              "        dataTable['output_type'] = 'display_data';\n",
              "        await google.colab.output.renderOutput(dataTable, element);\n",
              "        const docLink = document.createElement('div');\n",
              "        docLink.innerHTML = docLinkHtml;\n",
              "        element.appendChild(docLink);\n",
              "      }\n",
              "    </script>\n",
              "  </div>\n",
              "\n",
              "\n",
              "<div id=\"df-d52c80fe-5aac-4706-9374-f63490dea4b2\">\n",
              "  <button class=\"colab-df-quickchart\" onclick=\"quickchart('df-d52c80fe-5aac-4706-9374-f63490dea4b2')\"\n",
              "            title=\"Suggest charts\"\n",
              "            style=\"display:none;\">\n",
              "\n",
              "<svg xmlns=\"http://www.w3.org/2000/svg\" height=\"24px\"viewBox=\"0 0 24 24\"\n",
              "     width=\"24px\">\n",
              "    <g>\n",
              "        <path d=\"M19 3H5c-1.1 0-2 .9-2 2v14c0 1.1.9 2 2 2h14c1.1 0 2-.9 2-2V5c0-1.1-.9-2-2-2zM9 17H7v-7h2v7zm4 0h-2V7h2v10zm4 0h-2v-4h2v4z\"/>\n",
              "    </g>\n",
              "</svg>\n",
              "  </button>\n",
              "\n",
              "<style>\n",
              "  .colab-df-quickchart {\n",
              "      --bg-color: #E8F0FE;\n",
              "      --fill-color: #1967D2;\n",
              "      --hover-bg-color: #E2EBFA;\n",
              "      --hover-fill-color: #174EA6;\n",
              "      --disabled-fill-color: #AAA;\n",
              "      --disabled-bg-color: #DDD;\n",
              "  }\n",
              "\n",
              "  [theme=dark] .colab-df-quickchart {\n",
              "      --bg-color: #3B4455;\n",
              "      --fill-color: #D2E3FC;\n",
              "      --hover-bg-color: #434B5C;\n",
              "      --hover-fill-color: #FFFFFF;\n",
              "      --disabled-bg-color: #3B4455;\n",
              "      --disabled-fill-color: #666;\n",
              "  }\n",
              "\n",
              "  .colab-df-quickchart {\n",
              "    background-color: var(--bg-color);\n",
              "    border: none;\n",
              "    border-radius: 50%;\n",
              "    cursor: pointer;\n",
              "    display: none;\n",
              "    fill: var(--fill-color);\n",
              "    height: 32px;\n",
              "    padding: 0;\n",
              "    width: 32px;\n",
              "  }\n",
              "\n",
              "  .colab-df-quickchart:hover {\n",
              "    background-color: var(--hover-bg-color);\n",
              "    box-shadow: 0 1px 2px rgba(60, 64, 67, 0.3), 0 1px 3px 1px rgba(60, 64, 67, 0.15);\n",
              "    fill: var(--button-hover-fill-color);\n",
              "  }\n",
              "\n",
              "  .colab-df-quickchart-complete:disabled,\n",
              "  .colab-df-quickchart-complete:disabled:hover {\n",
              "    background-color: var(--disabled-bg-color);\n",
              "    fill: var(--disabled-fill-color);\n",
              "    box-shadow: none;\n",
              "  }\n",
              "\n",
              "  .colab-df-spinner {\n",
              "    border: 2px solid var(--fill-color);\n",
              "    border-color: transparent;\n",
              "    border-bottom-color: var(--fill-color);\n",
              "    animation:\n",
              "      spin 1s steps(1) infinite;\n",
              "  }\n",
              "\n",
              "  @keyframes spin {\n",
              "    0% {\n",
              "      border-color: transparent;\n",
              "      border-bottom-color: var(--fill-color);\n",
              "      border-left-color: var(--fill-color);\n",
              "    }\n",
              "    20% {\n",
              "      border-color: transparent;\n",
              "      border-left-color: var(--fill-color);\n",
              "      border-top-color: var(--fill-color);\n",
              "    }\n",
              "    30% {\n",
              "      border-color: transparent;\n",
              "      border-left-color: var(--fill-color);\n",
              "      border-top-color: var(--fill-color);\n",
              "      border-right-color: var(--fill-color);\n",
              "    }\n",
              "    40% {\n",
              "      border-color: transparent;\n",
              "      border-right-color: var(--fill-color);\n",
              "      border-top-color: var(--fill-color);\n",
              "    }\n",
              "    60% {\n",
              "      border-color: transparent;\n",
              "      border-right-color: var(--fill-color);\n",
              "    }\n",
              "    80% {\n",
              "      border-color: transparent;\n",
              "      border-right-color: var(--fill-color);\n",
              "      border-bottom-color: var(--fill-color);\n",
              "    }\n",
              "    90% {\n",
              "      border-color: transparent;\n",
              "      border-bottom-color: var(--fill-color);\n",
              "    }\n",
              "  }\n",
              "</style>\n",
              "\n",
              "  <script>\n",
              "    async function quickchart(key) {\n",
              "      const quickchartButtonEl =\n",
              "        document.querySelector('#' + key + ' button');\n",
              "      quickchartButtonEl.disabled = true;  // To prevent multiple clicks.\n",
              "      quickchartButtonEl.classList.add('colab-df-spinner');\n",
              "      try {\n",
              "        const charts = await google.colab.kernel.invokeFunction(\n",
              "            'suggestCharts', [key], {});\n",
              "      } catch (error) {\n",
              "        console.error('Error during call to suggestCharts:', error);\n",
              "      }\n",
              "      quickchartButtonEl.classList.remove('colab-df-spinner');\n",
              "      quickchartButtonEl.classList.add('colab-df-quickchart-complete');\n",
              "    }\n",
              "    (() => {\n",
              "      let quickchartButtonEl =\n",
              "        document.querySelector('#df-d52c80fe-5aac-4706-9374-f63490dea4b2 button');\n",
              "      quickchartButtonEl.style.display =\n",
              "        google.colab.kernel.accessAllowed ? 'block' : 'none';\n",
              "    })();\n",
              "  </script>\n",
              "</div>\n",
              "    </div>\n",
              "  </div>\n"
            ]
          },
          "metadata": {},
          "execution_count": 19
        }
      ]
    },
    {
      "cell_type": "markdown",
      "source": [
        "### ML Model"
      ],
      "metadata": {
        "id": "jxayFadyMMil"
      }
    },
    {
      "cell_type": "code",
      "source": [
        "from sklearn import metrics\n",
        "from sklearn.metrics import classification_report\n",
        "from sklearn.feature_extraction.text import TfidfVectorizer,CountVectorizer\n",
        "cntv=CountVectorizer()\n",
        "tfidf=TfidfVectorizer()"
      ],
      "metadata": {
        "id": "DUhlbMcSo_dl"
      },
      "execution_count": 99,
      "outputs": []
    },
    {
      "cell_type": "code",
      "source": [
        "X_train=tfidf.fit_transform(df1['mtext']).toarray()\n",
        "Y_train=df1.iloc[:,5].values"
      ],
      "metadata": {
        "id": "s_mqU38Io_dt"
      },
      "execution_count": 100,
      "outputs": []
    },
    {
      "cell_type": "code",
      "source": [
        "X_test=tfidf.transform(df2['mtext']).toarray()\n",
        "Y_test=df2.iloc[:,4].values"
      ],
      "metadata": {
        "id": "qIPc0PuIo_dt"
      },
      "execution_count": 101,
      "outputs": []
    },
    {
      "cell_type": "code",
      "source": [
        "len(X_train), len(Y_train), len(X_test), len(Y_test)"
      ],
      "metadata": {
        "colab": {
          "base_uri": "https://localhost:8080/"
        },
        "id": "TFjs2aOppaez",
        "outputId": "f6d8f169-ece1-4f6a-8c43-4265894a38a0"
      },
      "execution_count": 102,
      "outputs": [
        {
          "output_type": "execute_result",
          "data": {
            "text/plain": [
              "(12057, 12057, 3015, 3015)"
            ]
          },
          "metadata": {},
          "execution_count": 102
        }
      ]
    },
    {
      "cell_type": "code",
      "source": [
        "from sklearn.ensemble import RandomForestClassifier\n",
        "rfc = RandomForestClassifier(random_state=4)"
      ],
      "metadata": {
        "id": "PqpHVNNnpfPc"
      },
      "execution_count": 103,
      "outputs": []
    },
    {
      "cell_type": "code",
      "source": [
        "rfc.fit(X_train,Y_train)"
      ],
      "metadata": {
        "colab": {
          "base_uri": "https://localhost:8080/",
          "height": 75
        },
        "id": "CgZppFOopj4E",
        "outputId": "634d46b0-8d1d-4c59-efbc-5d8755d2e9c0"
      },
      "execution_count": 104,
      "outputs": [
        {
          "output_type": "execute_result",
          "data": {
            "text/plain": [
              "RandomForestClassifier(random_state=4)"
            ],
            "text/html": [
              "<style>#sk-container-id-1 {color: black;background-color: white;}#sk-container-id-1 pre{padding: 0;}#sk-container-id-1 div.sk-toggleable {background-color: white;}#sk-container-id-1 label.sk-toggleable__label {cursor: pointer;display: block;width: 100%;margin-bottom: 0;padding: 0.3em;box-sizing: border-box;text-align: center;}#sk-container-id-1 label.sk-toggleable__label-arrow:before {content: \"▸\";float: left;margin-right: 0.25em;color: #696969;}#sk-container-id-1 label.sk-toggleable__label-arrow:hover:before {color: black;}#sk-container-id-1 div.sk-estimator:hover label.sk-toggleable__label-arrow:before {color: black;}#sk-container-id-1 div.sk-toggleable__content {max-height: 0;max-width: 0;overflow: hidden;text-align: left;background-color: #f0f8ff;}#sk-container-id-1 div.sk-toggleable__content pre {margin: 0.2em;color: black;border-radius: 0.25em;background-color: #f0f8ff;}#sk-container-id-1 input.sk-toggleable__control:checked~div.sk-toggleable__content {max-height: 200px;max-width: 100%;overflow: auto;}#sk-container-id-1 input.sk-toggleable__control:checked~label.sk-toggleable__label-arrow:before {content: \"▾\";}#sk-container-id-1 div.sk-estimator input.sk-toggleable__control:checked~label.sk-toggleable__label {background-color: #d4ebff;}#sk-container-id-1 div.sk-label input.sk-toggleable__control:checked~label.sk-toggleable__label {background-color: #d4ebff;}#sk-container-id-1 input.sk-hidden--visually {border: 0;clip: rect(1px 1px 1px 1px);clip: rect(1px, 1px, 1px, 1px);height: 1px;margin: -1px;overflow: hidden;padding: 0;position: absolute;width: 1px;}#sk-container-id-1 div.sk-estimator {font-family: monospace;background-color: #f0f8ff;border: 1px dotted black;border-radius: 0.25em;box-sizing: border-box;margin-bottom: 0.5em;}#sk-container-id-1 div.sk-estimator:hover {background-color: #d4ebff;}#sk-container-id-1 div.sk-parallel-item::after {content: \"\";width: 100%;border-bottom: 1px solid gray;flex-grow: 1;}#sk-container-id-1 div.sk-label:hover label.sk-toggleable__label {background-color: #d4ebff;}#sk-container-id-1 div.sk-serial::before {content: \"\";position: absolute;border-left: 1px solid gray;box-sizing: border-box;top: 0;bottom: 0;left: 50%;z-index: 0;}#sk-container-id-1 div.sk-serial {display: flex;flex-direction: column;align-items: center;background-color: white;padding-right: 0.2em;padding-left: 0.2em;position: relative;}#sk-container-id-1 div.sk-item {position: relative;z-index: 1;}#sk-container-id-1 div.sk-parallel {display: flex;align-items: stretch;justify-content: center;background-color: white;position: relative;}#sk-container-id-1 div.sk-item::before, #sk-container-id-1 div.sk-parallel-item::before {content: \"\";position: absolute;border-left: 1px solid gray;box-sizing: border-box;top: 0;bottom: 0;left: 50%;z-index: -1;}#sk-container-id-1 div.sk-parallel-item {display: flex;flex-direction: column;z-index: 1;position: relative;background-color: white;}#sk-container-id-1 div.sk-parallel-item:first-child::after {align-self: flex-end;width: 50%;}#sk-container-id-1 div.sk-parallel-item:last-child::after {align-self: flex-start;width: 50%;}#sk-container-id-1 div.sk-parallel-item:only-child::after {width: 0;}#sk-container-id-1 div.sk-dashed-wrapped {border: 1px dashed gray;margin: 0 0.4em 0.5em 0.4em;box-sizing: border-box;padding-bottom: 0.4em;background-color: white;}#sk-container-id-1 div.sk-label label {font-family: monospace;font-weight: bold;display: inline-block;line-height: 1.2em;}#sk-container-id-1 div.sk-label-container {text-align: center;}#sk-container-id-1 div.sk-container {/* jupyter's `normalize.less` sets `[hidden] { display: none; }` but bootstrap.min.css set `[hidden] { display: none !important; }` so we also need the `!important` here to be able to override the default hidden behavior on the sphinx rendered scikit-learn.org. See: https://github.com/scikit-learn/scikit-learn/issues/21755 */display: inline-block !important;position: relative;}#sk-container-id-1 div.sk-text-repr-fallback {display: none;}</style><div id=\"sk-container-id-1\" class=\"sk-top-container\"><div class=\"sk-text-repr-fallback\"><pre>RandomForestClassifier(random_state=4)</pre><b>In a Jupyter environment, please rerun this cell to show the HTML representation or trust the notebook. <br />On GitHub, the HTML representation is unable to render, please try loading this page with nbviewer.org.</b></div><div class=\"sk-container\" hidden><div class=\"sk-item\"><div class=\"sk-estimator sk-toggleable\"><input class=\"sk-toggleable__control sk-hidden--visually\" id=\"sk-estimator-id-1\" type=\"checkbox\" checked><label for=\"sk-estimator-id-1\" class=\"sk-toggleable__label sk-toggleable__label-arrow\">RandomForestClassifier</label><div class=\"sk-toggleable__content\"><pre>RandomForestClassifier(random_state=4)</pre></div></div></div></div></div>"
            ]
          },
          "metadata": {},
          "execution_count": 104
        }
      ]
    },
    {
      "cell_type": "code",
      "source": [
        "y_predt_1=rfc.predict(X_test)"
      ],
      "metadata": {
        "id": "SADHj0lypwvw"
      },
      "execution_count": 105,
      "outputs": []
    },
    {
      "cell_type": "code",
      "source": [
        "print(\"Random_Forest\")\n",
        "print(classification_report(Y_test, y_predt_1))"
      ],
      "metadata": {
        "colab": {
          "base_uri": "https://localhost:8080/"
        },
        "outputId": "5273e83f-c88f-469f-b18f-dae958e341e4",
        "id": "v82__E8Zpwv4"
      },
      "execution_count": 106,
      "outputs": [
        {
          "output_type": "stream",
          "name": "stdout",
          "text": [
            "Random_Forest\n",
            "              precision    recall  f1-score   support\n",
            "\n",
            "           0       0.83      0.98      0.90      2427\n",
            "           1       0.69      0.15      0.25       588\n",
            "\n",
            "    accuracy                           0.82      3015\n",
            "   macro avg       0.76      0.57      0.58      3015\n",
            "weighted avg       0.80      0.82      0.77      3015\n",
            "\n"
          ]
        }
      ]
    },
    {
      "cell_type": "code",
      "source": [
        "from sklearn.linear_model import LogisticRegression\n",
        "lr=LogisticRegression()"
      ],
      "metadata": {
        "id": "ZQeqQKniqQcU"
      },
      "execution_count": 107,
      "outputs": []
    },
    {
      "cell_type": "code",
      "source": [
        "lr.fit(X_train,Y_train)"
      ],
      "metadata": {
        "colab": {
          "base_uri": "https://localhost:8080/",
          "height": 75
        },
        "outputId": "db3f9f78-97eb-43f8-e8c2-83ac6aa08484",
        "id": "2wVyTEJEqQcd"
      },
      "execution_count": 108,
      "outputs": [
        {
          "output_type": "execute_result",
          "data": {
            "text/plain": [
              "LogisticRegression()"
            ],
            "text/html": [
              "<style>#sk-container-id-2 {color: black;background-color: white;}#sk-container-id-2 pre{padding: 0;}#sk-container-id-2 div.sk-toggleable {background-color: white;}#sk-container-id-2 label.sk-toggleable__label {cursor: pointer;display: block;width: 100%;margin-bottom: 0;padding: 0.3em;box-sizing: border-box;text-align: center;}#sk-container-id-2 label.sk-toggleable__label-arrow:before {content: \"▸\";float: left;margin-right: 0.25em;color: #696969;}#sk-container-id-2 label.sk-toggleable__label-arrow:hover:before {color: black;}#sk-container-id-2 div.sk-estimator:hover label.sk-toggleable__label-arrow:before {color: black;}#sk-container-id-2 div.sk-toggleable__content {max-height: 0;max-width: 0;overflow: hidden;text-align: left;background-color: #f0f8ff;}#sk-container-id-2 div.sk-toggleable__content pre {margin: 0.2em;color: black;border-radius: 0.25em;background-color: #f0f8ff;}#sk-container-id-2 input.sk-toggleable__control:checked~div.sk-toggleable__content {max-height: 200px;max-width: 100%;overflow: auto;}#sk-container-id-2 input.sk-toggleable__control:checked~label.sk-toggleable__label-arrow:before {content: \"▾\";}#sk-container-id-2 div.sk-estimator input.sk-toggleable__control:checked~label.sk-toggleable__label {background-color: #d4ebff;}#sk-container-id-2 div.sk-label input.sk-toggleable__control:checked~label.sk-toggleable__label {background-color: #d4ebff;}#sk-container-id-2 input.sk-hidden--visually {border: 0;clip: rect(1px 1px 1px 1px);clip: rect(1px, 1px, 1px, 1px);height: 1px;margin: -1px;overflow: hidden;padding: 0;position: absolute;width: 1px;}#sk-container-id-2 div.sk-estimator {font-family: monospace;background-color: #f0f8ff;border: 1px dotted black;border-radius: 0.25em;box-sizing: border-box;margin-bottom: 0.5em;}#sk-container-id-2 div.sk-estimator:hover {background-color: #d4ebff;}#sk-container-id-2 div.sk-parallel-item::after {content: \"\";width: 100%;border-bottom: 1px solid gray;flex-grow: 1;}#sk-container-id-2 div.sk-label:hover label.sk-toggleable__label {background-color: #d4ebff;}#sk-container-id-2 div.sk-serial::before {content: \"\";position: absolute;border-left: 1px solid gray;box-sizing: border-box;top: 0;bottom: 0;left: 50%;z-index: 0;}#sk-container-id-2 div.sk-serial {display: flex;flex-direction: column;align-items: center;background-color: white;padding-right: 0.2em;padding-left: 0.2em;position: relative;}#sk-container-id-2 div.sk-item {position: relative;z-index: 1;}#sk-container-id-2 div.sk-parallel {display: flex;align-items: stretch;justify-content: center;background-color: white;position: relative;}#sk-container-id-2 div.sk-item::before, #sk-container-id-2 div.sk-parallel-item::before {content: \"\";position: absolute;border-left: 1px solid gray;box-sizing: border-box;top: 0;bottom: 0;left: 50%;z-index: -1;}#sk-container-id-2 div.sk-parallel-item {display: flex;flex-direction: column;z-index: 1;position: relative;background-color: white;}#sk-container-id-2 div.sk-parallel-item:first-child::after {align-self: flex-end;width: 50%;}#sk-container-id-2 div.sk-parallel-item:last-child::after {align-self: flex-start;width: 50%;}#sk-container-id-2 div.sk-parallel-item:only-child::after {width: 0;}#sk-container-id-2 div.sk-dashed-wrapped {border: 1px dashed gray;margin: 0 0.4em 0.5em 0.4em;box-sizing: border-box;padding-bottom: 0.4em;background-color: white;}#sk-container-id-2 div.sk-label label {font-family: monospace;font-weight: bold;display: inline-block;line-height: 1.2em;}#sk-container-id-2 div.sk-label-container {text-align: center;}#sk-container-id-2 div.sk-container {/* jupyter's `normalize.less` sets `[hidden] { display: none; }` but bootstrap.min.css set `[hidden] { display: none !important; }` so we also need the `!important` here to be able to override the default hidden behavior on the sphinx rendered scikit-learn.org. See: https://github.com/scikit-learn/scikit-learn/issues/21755 */display: inline-block !important;position: relative;}#sk-container-id-2 div.sk-text-repr-fallback {display: none;}</style><div id=\"sk-container-id-2\" class=\"sk-top-container\"><div class=\"sk-text-repr-fallback\"><pre>LogisticRegression()</pre><b>In a Jupyter environment, please rerun this cell to show the HTML representation or trust the notebook. <br />On GitHub, the HTML representation is unable to render, please try loading this page with nbviewer.org.</b></div><div class=\"sk-container\" hidden><div class=\"sk-item\"><div class=\"sk-estimator sk-toggleable\"><input class=\"sk-toggleable__control sk-hidden--visually\" id=\"sk-estimator-id-2\" type=\"checkbox\" checked><label for=\"sk-estimator-id-2\" class=\"sk-toggleable__label sk-toggleable__label-arrow\">LogisticRegression</label><div class=\"sk-toggleable__content\"><pre>LogisticRegression()</pre></div></div></div></div></div>"
            ]
          },
          "metadata": {},
          "execution_count": 108
        }
      ]
    },
    {
      "cell_type": "code",
      "source": [
        "y_predt_2=lr.predict(X_test)"
      ],
      "metadata": {
        "id": "a9YwZfoxqQcd"
      },
      "execution_count": 109,
      "outputs": []
    },
    {
      "cell_type": "code",
      "source": [
        "print(\"Logistic Regression\")\n",
        "print(classification_report(Y_test, y_predt_2))"
      ],
      "metadata": {
        "colab": {
          "base_uri": "https://localhost:8080/"
        },
        "outputId": "96e1d27b-dce2-4b4e-84af-fee8e265a4b5",
        "id": "8Rjn9yIAqQcd"
      },
      "execution_count": 110,
      "outputs": [
        {
          "output_type": "stream",
          "name": "stdout",
          "text": [
            "Logistic Regression\n",
            "              precision    recall  f1-score   support\n",
            "\n",
            "           0       0.83      0.98      0.90      2427\n",
            "           1       0.73      0.20      0.31       588\n",
            "\n",
            "    accuracy                           0.83      3015\n",
            "   macro avg       0.78      0.59      0.61      3015\n",
            "weighted avg       0.82      0.83      0.79      3015\n",
            "\n"
          ]
        }
      ]
    },
    {
      "cell_type": "code",
      "source": [
        "cm1=confusion_matrix(Y_test,y_predt_1)\n",
        "cm2=confusion_matrix(Y_test,y_predt_2)\n",
        "\n",
        "print(cm1);\n",
        "sns.heatmap(cm1,\n",
        "            annot=True,\n",
        "            fmt='g',\n",
        "            xticklabels=['Sarcastic','Non-Sarcastic'],\n",
        "            yticklabels=['Sarcastic','Non-Sarcastic'])\n",
        "plt.ylabel('Actual',fontsize=13)\n",
        "plt.xlabel('Predicted',fontsize=13)\n",
        "plt.title('Random Forest',fontsize=17)\n",
        "plt.show()\n",
        "\n",
        "print(cm2)\n",
        "sns.heatmap(cm2,\n",
        "            annot=True,\n",
        "            fmt='g',\n",
        "            xticklabels=['Sarcastic','Non-Sarcastic'],\n",
        "            yticklabels=['Sarcastic','Non-Sarcastic'])\n",
        "plt.ylabel('Actual',fontsize=13)\n",
        "plt.xlabel('Predicted',fontsize=13)\n",
        "plt.title('Logistic Regression',fontsize=17)\n",
        "plt.show()"
      ],
      "metadata": {
        "colab": {
          "base_uri": "https://localhost:8080/",
          "height": 1000
        },
        "id": "BXOdBBbuZJx_",
        "outputId": "599aa9ab-75c6-43e7-98ec-0ceca25be8dc"
      },
      "execution_count": 111,
      "outputs": [
        {
          "output_type": "stream",
          "name": "stdout",
          "text": [
            "[[2386   41]\n",
            " [ 497   91]]\n"
          ]
        },
        {
          "output_type": "display_data",
          "data": {
            "text/plain": [
              "<Figure size 640x480 with 2 Axes>"
            ],
            "image/png": "[encoded data removed]"
          },
          "metadata": {}
        },
        {
          "output_type": "stream",
          "name": "stdout",
          "text": [
            "[[2385   42]\n",
            " [ 472  116]]\n"
          ]
        },
        {
          "output_type": "display_data",
          "data": {
            "text/plain": [
              "<Figure size 640x480 with 2 Axes>"
            ],
            "image/png": "[encoded data removed]"
          },
          "metadata": {}
        }
      ]
    },
    {
      "cell_type": "markdown",
      "source": [
        "###CNN"
      ],
      "metadata": {
        "id": "tfuLR3ext661"
      }
    },
    {
      "cell_type": "code",
      "source": [
        "import tensorflow as tf\n",
        "from tensorflow.keras.layers.experimental.preprocessing import TextVectorization"
      ],
      "metadata": {
        "id": "TzF7PZjnX6K0"
      },
      "execution_count": 20,
      "outputs": []
    },
    {
      "cell_type": "code",
      "source": [
        "text_vectorizer = TextVectorization(max_tokens=None, # how many words in the vocabulary (all of the different words in your text)\n",
        "                                    standardize=\"lower_and_strip_punctuation\", # how to process text\n",
        "                                    split=\"whitespace\", # how to split tokens\n",
        "                                    ngrams=None, # create groups of n-words?\n",
        "                                    output_mode=\"int\", # how to map tokens to numbers\n",
        "                                    output_sequence_length=None) # how long should the output sequence of tokens be?\n",
        "                                    # pad_to_max_tokens=True) # Not valid if using max_tokens=None"
      ],
      "metadata": {
        "id": "xTQ9GXN6YEJx"
      },
      "execution_count": 21,
      "outputs": []
    },
    {
      "cell_type": "code",
      "source": [
        "X_train=df1['mtext'].values\n"
      ],
      "metadata": {
        "id": "0l2V4UIuYX-2"
      },
      "execution_count": 22,
      "outputs": []
    },
    {
      "cell_type": "code",
      "source": [
        "X_train"
      ],
      "metadata": {
        "colab": {
          "base_uri": "https://localhost:8080/"
        },
        "id": "u3Vt5RqPYmUT",
        "outputId": "0c678a0c-b873-4bea-d479-98e1248febb5"
      },
      "execution_count": 23,
      "outputs": [
        {
          "output_type": "execute_result",
          "data": {
            "text/plain": [
              "array(['ആദ്യം കേട്ടിട്ട് ഇഷ്ടായില്ല  ഇപ്പൊ വീണ്ടും  വീണ്ടും റിപ്പീറ്റ്',\n",
              "       '൧:൦൭ . എഴുതി കാണിച്ചത് കൊണ്ട് ആരാണെന്ന് മനസിലായി',\n",
              "       'ഉയ്യന്റാ മോണി,   ഇക്കാ ഉയ്യർർ', ...,\n",
              "       'ക്ലാസ് കഴിഞ്ഞു മക്കളേ ഇനി ഇക്കടെ മാസ് കനം',\n",
              "       'ഇ ലൈക്ക് മധുര രാജ ട്രെയിലർ.സോ ഇ മേക്ക് അ വേർഷൻ ഓഫ് ലയണൽ മെസ്സി യൂസിങ് മധുര രാജ ട്രെയിലർ',\n",
              "       'അവളുടെ മോന്തയ്ക്കിട്ടു ഒരെണ്ണം പൊട്ടിച്ചിട്ടു കണ്ണാടി എടുത്തു കാണിച്ചു കൊടുക്ക് , അപ്പൊ കാണാം അവളുടെ മൂക്കുത്തി ..'],\n",
              "      dtype=object)"
            ]
          },
          "metadata": {},
          "execution_count": 23
        }
      ]
    },
    {
      "cell_type": "code",
      "source": [
        "Y_train=df1.iloc[:,5].values"
      ],
      "metadata": {
        "id": "EmEpLkQeYna7"
      },
      "execution_count": 24,
      "outputs": []
    },
    {
      "cell_type": "code",
      "source": [
        "Y_train"
      ],
      "metadata": {
        "colab": {
          "base_uri": "https://localhost:8080/"
        },
        "id": "RVooBG1Dkpd3",
        "outputId": "e0f5c442-42b7-4a0b-82e8-2efad2bb9d07"
      },
      "execution_count": 25,
      "outputs": [
        {
          "output_type": "execute_result",
          "data": {
            "text/plain": [
              "array([0, 0, 1, ..., 0, 0, 1])"
            ]
          },
          "metadata": {},
          "execution_count": 25
        }
      ]
    },
    {
      "cell_type": "code",
      "source": [
        "X_test=df2['mtext'].values"
      ],
      "metadata": {
        "id": "emUUc-l5YynB"
      },
      "execution_count": 26,
      "outputs": []
    },
    {
      "cell_type": "code",
      "source": [
        "Y_test=df2.iloc[:,4].values"
      ],
      "metadata": {
        "id": "R6-EhbtwY2Ah"
      },
      "execution_count": 27,
      "outputs": []
    },
    {
      "cell_type": "code",
      "source": [
        "Y_test"
      ],
      "metadata": {
        "colab": {
          "base_uri": "https://localhost:8080/"
        },
        "id": "7DJKINZfk28y",
        "outputId": "c1804df1-8858-4bbf-bb23-c714a5111fc7"
      },
      "execution_count": 28,
      "outputs": [
        {
          "output_type": "execute_result",
          "data": {
            "text/plain": [
              "array([0, 1, 0, ..., 0, 0, 1])"
            ]
          },
          "metadata": {},
          "execution_count": 28
        }
      ]
    },
    {
      "cell_type": "code",
      "source": [
        "round(sum([len(i.split()) for i in X_train])/len(X_train))"
      ],
      "metadata": {
        "colab": {
          "base_uri": "https://localhost:8080/"
        },
        "id": "rtwad5-1Y7YI",
        "outputId": "9d402f4b-b886-4302-b3a2-2f3c28671f5b"
      },
      "execution_count": 29,
      "outputs": [
        {
          "output_type": "execute_result",
          "data": {
            "text/plain": [
              "10"
            ]
          },
          "metadata": {},
          "execution_count": 29
        }
      ]
    },
    {
      "cell_type": "code",
      "source": [
        "# Setup text vectorization with custom variables\n",
        "max_vocab_length = 10000 # max number of words to have in our vocabulary\n",
        "max_length = 10 # max length our sequences will be (e.g. how many words from a Tweet does our model see?)\n",
        "\n",
        "text_vectorizer = TextVectorization(max_tokens=max_vocab_length,\n",
        "                                    output_mode=\"int\",\n",
        "                                    output_sequence_length=max_length)"
      ],
      "metadata": {
        "id": "FV1qjiMZZCv6"
      },
      "execution_count": 30,
      "outputs": []
    },
    {
      "cell_type": "code",
      "source": [
        "text_vectorizer.adapt(X_train)"
      ],
      "metadata": {
        "id": "UkqCSfI6ZV96"
      },
      "execution_count": 31,
      "outputs": []
    },
    {
      "cell_type": "code",
      "source": [
        "sample_sentence = \"നീയൊക്കെ ആരാധിച്ചു ആരാധിച്ചു വളർത്തിയിട്ടല്ല ഞാൻ നടനായത്\"\n",
        "text_vectorizer([sample_sentence])"
      ],
      "metadata": {
        "colab": {
          "base_uri": "https://localhost:8080/"
        },
        "id": "a0--00bDZauK",
        "outputId": "c952b5ba-309a-40f9-f075-16f36fa47c6b"
      },
      "execution_count": 32,
      "outputs": [
        {
          "output_type": "execute_result",
          "data": {
            "text/plain": [
              "<tf.Tensor: shape=(1, 10), dtype=int64, numpy=array([[1704, 2139, 2139, 6228,   14, 7429,    0,    0,    0,    0]])>"
            ]
          },
          "metadata": {},
          "execution_count": 32
        }
      ]
    },
    {
      "cell_type": "code",
      "source": [
        "tf.random.set_seed(42)\n",
        "from tensorflow.keras import layers\n",
        "\n",
        "embedding = layers.Embedding(input_dim=max_vocab_length, # set input shape\n",
        "                             output_dim=128, # set size of embedding vector\n",
        "                             embeddings_initializer=\"uniform\", # default, intialize randomly\n",
        "                             input_length=max_length, # how long is each input\n",
        "                             name=\"embedding_1\")\n",
        "\n",
        "embedding"
      ],
      "metadata": {
        "colab": {
          "base_uri": "https://localhost:8080/"
        },
        "id": "eO7hfpWIZoTa",
        "outputId": "20ff8c8c-efed-4645-f6b4-6a72f0379277"
      },
      "execution_count": 33,
      "outputs": [
        {
          "output_type": "execute_result",
          "data": {
            "text/plain": [
              "<keras.src.layers.core.embedding.Embedding at 0x7ae7ae9ee410>"
            ]
          },
          "metadata": {},
          "execution_count": 33
        }
      ]
    },
    {
      "cell_type": "code",
      "source": [
        "# Test out the embedding, 1D convolutional and max pooling\n",
        "embedding_test = embedding(text_vectorizer([\"നീയൊക്കെ ആരാധിച്ചു ആരാധിച്ചു വളർത്തിയിട്ടല്ല ഞാൻ നടനായത്\"])) # turn target sentence into embedding\n",
        "conv_1d = layers.Conv1D(filters=32, kernel_size=5, activation=\"relu\") # convolve over target sequence 5 words at a time\n",
        "conv_1d_output = conv_1d(embedding_test) # pass embedding through 1D convolutional layer\n",
        "max_pool = layers.GlobalMaxPool1D()\n",
        "max_pool_output = max_pool(conv_1d_output) # get the most important"
      ],
      "metadata": {
        "id": "-iF8v16CZ22O"
      },
      "execution_count": 34,
      "outputs": []
    },
    {
      "cell_type": "code",
      "source": [
        "embedding_test.shape, conv_1d_output.shape, max_pool_output.shape"
      ],
      "metadata": {
        "colab": {
          "base_uri": "https://localhost:8080/"
        },
        "id": "SP8f7tybeRBA",
        "outputId": "ecc68b88-34ca-4eeb-feae-42b8bb50a314"
      },
      "execution_count": 35,
      "outputs": [
        {
          "output_type": "execute_result",
          "data": {
            "text/plain": [
              "(TensorShape([1, 10, 128]), TensorShape([1, 6, 32]), TensorShape([1, 32]))"
            ]
          },
          "metadata": {},
          "execution_count": 35
        }
      ]
    },
    {
      "cell_type": "code",
      "source": [
        "# Set random seed and create embedding layer (new embedding layer for each model)\n",
        "tf.random.set_seed(42)\n",
        "from tensorflow.keras import layers\n",
        "model_1_embedding = layers.Embedding(input_dim=max_vocab_length,\n",
        "                                     output_dim=128,\n",
        "                                     embeddings_initializer=\"uniform\",\n",
        "                                     input_length=max_length,\n",
        "                                     name=\"embedding_2\")\n",
        "\n",
        "# Create 1-dimensional convolutional layer to model sequences\n",
        "from tensorflow.keras import layers\n",
        "inputs = layers.Input(shape=(1,), dtype=\"string\")\n",
        "x = text_vectorizer(inputs)\n",
        "x = model_1_embedding(x)\n",
        "x = layers.Conv1D(filters=32, kernel_size=5, activation=\"relu\")(x)\n",
        "x = layers.Conv1D(filters=8, kernel_size=5, activation=\"relu\")(x)\n",
        "x = layers.GlobalMaxPool1D()(x)\n",
        "x = layers.Dense(8, activation=\"relu\")(x) # optional dense layer\n",
        "outputs = layers.Dense(1, activation=\"sigmoid\")(x)\n",
        "model_1 = tf.keras.Model(inputs, outputs, name=\"model_1_Conv1D\")\n",
        "\n",
        "# Compile Conv1D model\n",
        "model_1.compile(loss=\"binary_crossentropy\",\n",
        "                optimizer=tf.keras.optimizers.Adam(),\n",
        "                metrics=[\"accuracy\"])\n",
        "\n",
        "# Get a summary of our 1D convolution model\n",
        "model_1.summary()"
      ],
      "metadata": {
        "colab": {
          "base_uri": "https://localhost:8080/"
        },
        "id": "B89E2vdpahtO",
        "outputId": "c9b3ab13-dbbb-4b4c-eedd-245942a85d38"
      },
      "execution_count": 58,
      "outputs": [
        {
          "output_type": "stream",
          "name": "stdout",
          "text": [
            "Model: \"model_1_Conv1D\"\n",
            "_________________________________________________________________\n",
            " Layer (type)                Output Shape              Param #   \n",
            "=================================================================\n",
            " input_5 (InputLayer)        [(None, 1)]               0         \n",
            "                                                                 \n",
            " text_vectorization_1 (Text  (None, 10)                0         \n",
            " Vectorization)                                                  \n",
            "                                                                 \n",
            " embedding_2 (Embedding)     (None, 10, 128)           1280000   \n",
            "                                                                 \n",
            " conv1d_10 (Conv1D)          (None, 6, 32)             20512     \n",
            "                                                                 \n",
            " conv1d_11 (Conv1D)          (None, 2, 8)              1288      \n",
            "                                                                 \n",
            " global_max_pooling1d_4 (Gl  (None, 8)                 0         \n",
            " obalMaxPooling1D)                                               \n",
            "                                                                 \n",
            " dense_7 (Dense)             (None, 8)                 72        \n",
            "                                                                 \n",
            " dense_8 (Dense)             (None, 1)                 9         \n",
            "                                                                 \n",
            "=================================================================\n",
            "Total params: 1301881 (4.97 MB)\n",
            "Trainable params: 1301881 (4.97 MB)\n",
            "Non-trainable params: 0 (0.00 Byte)\n",
            "_________________________________________________________________\n"
          ]
        }
      ]
    },
    {
      "cell_type": "code",
      "source": [
        "# Fit the model\n",
        "model_1_history = model_1.fit(X_train,Y_train,\n",
        "                              epochs=5,\n",
        "                              validation_data=(X_test, Y_test))"
      ],
      "metadata": {
        "colab": {
          "base_uri": "https://localhost:8080/"
        },
        "id": "VC60oziUamNa",
        "outputId": "a62b6139-7f09-4c77-99b3-552b3819c467"
      },
      "execution_count": 59,
      "outputs": [
        {
          "output_type": "stream",
          "name": "stdout",
          "text": [
            "Epoch 1/5\n",
            "377/377 [==============================] - 10s 22ms/step - loss: 0.4495 - accuracy: 0.8237 - val_loss: 0.3616 - val_accuracy: 0.8574\n",
            "Epoch 2/5\n",
            "377/377 [==============================] - 3s 8ms/step - loss: 0.2581 - accuracy: 0.9000 - val_loss: 0.3764 - val_accuracy: 0.8514\n",
            "Epoch 3/5\n",
            "377/377 [==============================] - 3s 7ms/step - loss: 0.1270 - accuracy: 0.9569 - val_loss: 0.4818 - val_accuracy: 0.8342\n",
            "Epoch 4/5\n",
            "377/377 [==============================] - 3s 9ms/step - loss: 0.0581 - accuracy: 0.9805 - val_loss: 0.6026 - val_accuracy: 0.8352\n",
            "Epoch 5/5\n",
            "377/377 [==============================] - 3s 7ms/step - loss: 0.0305 - accuracy: 0.9900 - val_loss: 0.7286 - val_accuracy: 0.8295\n"
          ]
        }
      ]
    },
    {
      "cell_type": "code",
      "source": [
        "model_1_pred_probs = model_1.predict(X_test)"
      ],
      "metadata": {
        "colab": {
          "base_uri": "https://localhost:8080/"
        },
        "id": "TAo4I6WomeRs",
        "outputId": "99508a40-3b92-451f-d0a1-0736004a2971"
      },
      "execution_count": 60,
      "outputs": [
        {
          "output_type": "stream",
          "name": "stdout",
          "text": [
            "95/95 [==============================] - 1s 4ms/step\n"
          ]
        }
      ]
    },
    {
      "cell_type": "code",
      "source": [
        "model_1_preds = tf.squeeze(tf.round(model_1_pred_probs))\n"
      ],
      "metadata": {
        "id": "_ysHqDU1lyvS"
      },
      "execution_count": 61,
      "outputs": []
    },
    {
      "cell_type": "code",
      "source": [
        "y_pred=model_1_preds.numpy()"
      ],
      "metadata": {
        "id": "JRUtkjwGmVlx"
      },
      "execution_count": 62,
      "outputs": []
    },
    {
      "cell_type": "code",
      "source": [
        "y_pred=y_pred.astype(int)"
      ],
      "metadata": {
        "id": "1rhRx2Vgm0PY"
      },
      "execution_count": 63,
      "outputs": []
    },
    {
      "cell_type": "code",
      "source": [
        "y_pred"
      ],
      "metadata": {
        "colab": {
          "base_uri": "https://localhost:8080/"
        },
        "id": "SFP7FeU1nSqk",
        "outputId": "68d1082f-2c82-445b-95b5-d29d70c2a267"
      },
      "execution_count": 64,
      "outputs": [
        {
          "output_type": "execute_result",
          "data": {
            "text/plain": [
              "array([0, 0, 0, ..., 1, 0, 0])"
            ]
          },
          "metadata": {},
          "execution_count": 64
        }
      ]
    },
    {
      "cell_type": "code",
      "source": [
        "Y_test"
      ],
      "metadata": {
        "colab": {
          "base_uri": "https://localhost:8080/"
        },
        "id": "QI-lMd2tmB3q",
        "outputId": "32501e6c-a164-4173-ed81-74ad7b42a112"
      },
      "execution_count": 65,
      "outputs": [
        {
          "output_type": "execute_result",
          "data": {
            "text/plain": [
              "array([0, 1, 0, ..., 0, 0, 1])"
            ]
          },
          "metadata": {},
          "execution_count": 65
        }
      ]
    },
    {
      "cell_type": "code",
      "source": [
        "print(\"CNN\")\n",
        "print(classification_report(Y_test, y_pred))"
      ],
      "metadata": {
        "colab": {
          "base_uri": "https://localhost:8080/"
        },
        "id": "NQLucfMZlebk",
        "outputId": "c2a1551f-3e18-4c41-9235-b3fc80a11b1d"
      },
      "execution_count": 66,
      "outputs": [
        {
          "output_type": "stream",
          "name": "stdout",
          "text": [
            "CNN\n",
            "              precision    recall  f1-score   support\n",
            "\n",
            "           0       0.88      0.92      0.90      2427\n",
            "           1       0.58      0.46      0.51       588\n",
            "\n",
            "    accuracy                           0.83      3015\n",
            "   macro avg       0.73      0.69      0.71      3015\n",
            "weighted avg       0.82      0.83      0.82      3015\n",
            "\n"
          ]
        }
      ]
    },
    {
      "cell_type": "code",
      "source": [
        "cm1=confusion_matrix(Y_test,y_pred)\n",
        "\n",
        "print(cm1);\n",
        "sns.heatmap(cm1,\n",
        "            annot=True,\n",
        "            fmt='g',\n",
        "            xticklabels=['Sarcastic','Non-Sarcastic'],\n",
        "            yticklabels=['Sarcastic','Non-Sarcastic'])\n",
        "plt.ylabel('Actual',fontsize=13)\n",
        "plt.xlabel('Predicted',fontsize=13)\n",
        "plt.title('CNN Model',fontsize=17)\n",
        "plt.show()"
      ],
      "metadata": {
        "colab": {
          "base_uri": "https://localhost:8080/",
          "height": 517
        },
        "id": "iWitiO3hloo1",
        "outputId": "e941064f-fbb1-4348-f890-710a6e630ee8"
      },
      "execution_count": 67,
      "outputs": [
        {
          "output_type": "stream",
          "name": "stdout",
          "text": [
            "[[2229  198]\n",
            " [ 316  272]]\n"
          ]
        },
        {
          "output_type": "display_data",
          "data": {
            "text/plain": [
              "<Figure size 640x480 with 2 Axes>"
            ],
            "image/png": "[encoded data removed]"
          },
          "metadata": {}
        }
      ]
    },
    {
      "cell_type": "markdown",
      "source": [
        "###m-bert"
      ],
      "metadata": {
        "id": "_XFAfJqut1wI"
      }
    },
    {
      "cell_type": "code",
      "source": [
        "!pip install tensorflow_text"
      ],
      "metadata": {
        "id": "zqEsY8f9QUA6"
      },
      "execution_count": null,
      "outputs": []
    },
    {
      "cell_type": "code",
      "source": [
        "import tensorflow as tf\n",
        "import tensorflow_hub as hub\n",
        "import tensorflow_text as text"
      ],
      "metadata": {
        "id": "qhfbUHnft_lr"
      },
      "execution_count": 6,
      "outputs": []
    },
    {
      "cell_type": "code",
      "source": [
        "bert_preprocess = hub.KerasLayer(\"https://tfhub.dev/tensorflow/bert_multi_cased_preprocess/3\")\n",
        "bert_encoder = hub.KerasLayer(\"https://tfhub.dev/tensorflow/bert_multi_cased_L-12_H-768_A-12/4\")"
      ],
      "metadata": {
        "id": "Wv4uY3TGuGDF"
      },
      "execution_count": 7,
      "outputs": []
    },
    {
      "cell_type": "code",
      "source": [
        "# Bert layers\n",
        "text_input = tf.keras.layers.Input(shape=(), dtype=tf.string, name='text')\n",
        "preprocessed_text = bert_preprocess(text_input)\n",
        "outputs = bert_encoder(preprocessed_text)\n",
        "\n",
        "# Neural network layers\n",
        "l = tf.keras.layers.Dropout(0.1, name=\"dropout\")(outputs['pooled_output'])\n",
        "l = tf.keras.layers.Dense(1, activation='sigmoid', name=\"output3\")(l)\n",
        "\n",
        "# Use inputs and outputs to construct a final model\n",
        "model = tf.keras.Model(inputs=[text_input], outputs = [l])"
      ],
      "metadata": {
        "id": "Dc9znBUQuhd1"
      },
      "execution_count": 87,
      "outputs": []
    },
    {
      "cell_type": "code",
      "source": [
        "model.summary()"
      ],
      "metadata": {
        "colab": {
          "base_uri": "https://localhost:8080/"
        },
        "id": "lgsTYAYcu0gT",
        "outputId": "ece60577-b5da-47cb-d20f-20050978df34"
      },
      "execution_count": 88,
      "outputs": [
        {
          "output_type": "stream",
          "name": "stdout",
          "text": [
            "Model: \"model_3\"\n",
            "__________________________________________________________________________________________________\n",
            " Layer (type)                Output Shape                 Param #   Connected to                  \n",
            "==================================================================================================\n",
            " text (InputLayer)           [(None,)]                    0         []                            \n",
            "                                                                                                  \n",
            " keras_layer (KerasLayer)    {'input_mask': (None, 128)   0         ['text[0][0]']                \n",
            "                             , 'input_type_ids': (None,                                           \n",
            "                              128),                                                               \n",
            "                              'input_word_ids': (None,                                            \n",
            "                             128)}                                                                \n",
            "                                                                                                  \n",
            " keras_layer_1 (KerasLayer)  {'sequence_output': (None,   1778534   ['keras_layer[3][0]',         \n",
            "                              128, 768),                  41         'keras_layer[3][1]',         \n",
            "                              'pooled_output': (None, 7              'keras_layer[3][2]']         \n",
            "                             68),                                                                 \n",
            "                              'encoder_outputs': [(None                                           \n",
            "                             , 128, 768),                                                         \n",
            "                              (None, 128, 768),                                                   \n",
            "                              (None, 128, 768),                                                   \n",
            "                              (None, 128, 768),                                                   \n",
            "                              (None, 128, 768),                                                   \n",
            "                              (None, 128, 768),                                                   \n",
            "                              (None, 128, 768),                                                   \n",
            "                              (None, 128, 768),                                                   \n",
            "                              (None, 128, 768),                                                   \n",
            "                              (None, 128, 768),                                                   \n",
            "                              (None, 128, 768),                                                   \n",
            "                              (None, 128, 768)],                                                  \n",
            "                              'default': (None, 768)}                                             \n",
            "                                                                                                  \n",
            " dropout (Dropout)           (None, 768)                  0         ['keras_layer_1[3][13]']      \n",
            "                                                                                                  \n",
            " output3 (Dense)             (None, 1)                    769       ['dropout[0][0]']             \n",
            "                                                                                                  \n",
            "==================================================================================================\n",
            "Total params: 177854210 (678.46 MB)\n",
            "Trainable params: 769 (3.00 KB)\n",
            "Non-trainable params: 177853441 (678.46 MB)\n",
            "__________________________________________________________________________________________________\n"
          ]
        }
      ]
    },
    {
      "cell_type": "code",
      "source": [
        "model.compile(optimizer='adam',\n",
        "              loss='binary_crossentropy',\n",
        "              metrics=['accuracy'])"
      ],
      "metadata": {
        "id": "adTNdBHTu3b0"
      },
      "execution_count": 89,
      "outputs": []
    },
    {
      "cell_type": "code",
      "source": [
        "tf.keras.callbacks.EarlyStopping(\n",
        "    monitor=\"val_loss\",\n",
        "    min_delta=0,\n",
        "    patience=0,\n",
        "    verbose=0,\n",
        "    mode=\"auto\",\n",
        "    baseline=None,\n",
        "    restore_best_weights=False,\n",
        "    start_from_epoch=0,\n",
        ")"
      ],
      "metadata": {
        "colab": {
          "base_uri": "https://localhost:8080/"
        },
        "id": "IUVK2z3l4I9H",
        "outputId": "e97ab61e-dce2-47e2-ddb5-0497457a2a03"
      },
      "execution_count": 90,
      "outputs": [
        {
          "output_type": "execute_result",
          "data": {
            "text/plain": [
              "<keras.src.callbacks.EarlyStopping at 0x7ae7ac80e710>"
            ]
          },
          "metadata": {},
          "execution_count": 90
        }
      ]
    },
    {
      "cell_type": "code",
      "source": [
        "model.fit(X_train, Y_train, epochs=2)"
      ],
      "metadata": {
        "colab": {
          "base_uri": "https://localhost:8080/"
        },
        "id": "6KO24RPfu-1k",
        "outputId": "464ae5a5-734a-4b97-b2b4-65bda6c5eea8"
      },
      "execution_count": 91,
      "outputs": [
        {
          "output_type": "stream",
          "name": "stdout",
          "text": [
            "Epoch 1/2\n",
            "377/377 [==============================] - 132s 342ms/step - loss: 0.4741 - accuracy: 0.8099\n",
            "Epoch 2/2\n",
            "377/377 [==============================] - 128s 339ms/step - loss: 0.4555 - accuracy: 0.8127\n"
          ]
        },
        {
          "output_type": "execute_result",
          "data": {
            "text/plain": [
              "<keras.src.callbacks.History at 0x7ae7b0c8a8f0>"
            ]
          },
          "metadata": {},
          "execution_count": 91
        }
      ]
    },
    {
      "cell_type": "code",
      "source": [
        "model_pred_probs = model.predict(X_test)"
      ],
      "metadata": {
        "colab": {
          "base_uri": "https://localhost:8080/"
        },
        "outputId": "a4ff593d-5710-4a48-fdd1-21839e5444c1",
        "id": "S07KKKNh1cTM"
      },
      "execution_count": 92,
      "outputs": [
        {
          "output_type": "stream",
          "name": "stdout",
          "text": [
            "95/95 [==============================] - 32s 334ms/step\n"
          ]
        }
      ]
    },
    {
      "cell_type": "code",
      "source": [
        "model_preds = tf.squeeze(tf.round(model_pred_probs))\n"
      ],
      "metadata": {
        "id": "p7B42lRG1cTN"
      },
      "execution_count": 93,
      "outputs": []
    },
    {
      "cell_type": "code",
      "source": [
        "y_pred_2=model_preds.numpy()"
      ],
      "metadata": {
        "id": "LSeLjJ-N1cTN"
      },
      "execution_count": 94,
      "outputs": []
    },
    {
      "cell_type": "code",
      "source": [
        "y_pred_2=y_pred_2.astype(int)"
      ],
      "metadata": {
        "id": "DfmT22pk1cTN"
      },
      "execution_count": 95,
      "outputs": []
    },
    {
      "cell_type": "code",
      "source": [
        "y_pred_2"
      ],
      "metadata": {
        "colab": {
          "base_uri": "https://localhost:8080/"
        },
        "id": "ncR6APR41s-Q",
        "outputId": "58f02f1e-d819-48b5-9d95-24a1c0716da9"
      },
      "execution_count": 96,
      "outputs": [
        {
          "output_type": "execute_result",
          "data": {
            "text/plain": [
              "array([0, 0, 0, ..., 0, 0, 0])"
            ]
          },
          "metadata": {},
          "execution_count": 96
        }
      ]
    },
    {
      "cell_type": "code",
      "source": [
        "print(\"m-bert Model\")\n",
        "print(classification_report(Y_test, y_pred_2))"
      ],
      "metadata": {
        "colab": {
          "base_uri": "https://localhost:8080/"
        },
        "id": "STpFIieB1uZg",
        "outputId": "3a6fc728-a14a-4125-9e8d-81ff06d826fb"
      },
      "execution_count": 97,
      "outputs": [
        {
          "output_type": "stream",
          "name": "stdout",
          "text": [
            "m-bert Model\n",
            "              precision    recall  f1-score   support\n",
            "\n",
            "           0       0.80      1.00      0.89      2427\n",
            "           1       0.00      0.00      0.00       588\n",
            "\n",
            "    accuracy                           0.80      3015\n",
            "   macro avg       0.40      0.50      0.45      3015\n",
            "weighted avg       0.65      0.80      0.72      3015\n",
            "\n"
          ]
        }
      ]
    },
    {
      "cell_type": "code",
      "source": [
        "cm2=confusion_matrix(Y_test,y_pred_2)\n",
        "\n",
        "print(cm2);\n",
        "sns.heatmap(cm2,\n",
        "            annot=True,\n",
        "            fmt='g',\n",
        "            xticklabels=['Sarcastic','Non-Sarcastic'],\n",
        "            yticklabels=['Sarcastic','Non-Sarcastic'])\n",
        "plt.ylabel('Actual',fontsize=13)\n",
        "plt.xlabel('Predicted',fontsize=13)\n",
        "plt.title('m-bert Model',fontsize=17)\n",
        "plt.show()"
      ],
      "metadata": {
        "colab": {
          "base_uri": "https://localhost:8080/",
          "height": 517
        },
        "id": "U0JWQRK010xY",
        "outputId": "1dfed916-19a7-49e8-8104-b5c072f539e6"
      },
      "execution_count": 98,
      "outputs": [
        {
          "output_type": "stream",
          "name": "stdout",
          "text": [
            "[[2424    3]\n",
            " [ 588    0]]\n"
          ]
        },
        {
          "output_type": "display_data",
          "data": {
            "text/plain": [
              "<Figure size 640x480 with 2 Axes>"
            ],
            "image/png": "[encoded data removed]"
          },
          "metadata": {}
        }
      ]
    },
    {
      "cell_type": "code",
      "source": [],
      "metadata": {
        "id": "Hs_9UrxQ2Ca1"
      },
      "execution_count": 98,
      "outputs": []
    }
  ]
}